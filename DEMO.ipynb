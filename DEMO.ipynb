{
 "cells": [
  {
   "cell_type": "markdown",
   "metadata": {},
   "source": [
    "# Parsel\n",
    "\n",
    "Parsel is a library to extract data from HTML and XML using XPath and CSS selectors\n",
    "\n",
    "---"
   ]
  },
  {
   "cell_type": "markdown",
   "metadata": {},
   "source": [
    "## Usage\n",
    "\n",
    "### Getting started\n",
    "\n",
    "If you already know how to write CSS or XPath expressions, using Parsel is straightforward: you just need to create a Selector object for the HTML or XML text you want to parse, and use the available methods for selecting parts from the text and extracting data out of the result.\n",
    "\n",
    "Creating a Selector object is simple:"
   ]
  },
  {
   "cell_type": "code",
   "execution_count": 1,
   "metadata": {},
   "outputs": [],
   "source": [
    "from parsel import Selector"
   ]
  },
  {
   "cell_type": "code",
   "execution_count": 2,
   "metadata": {},
   "outputs": [
    {
     "data": {
      "text/plain": [
       "<Selector xpath=None data='<html><body><h1>Hello, Parsel!</h1></bod'>"
      ]
     },
     "execution_count": 2,
     "metadata": {},
     "output_type": "execute_result"
    }
   ],
   "source": [
    "text = u\"<html><body><h1>Hello, Parsel!</h1></body></html>\"\n",
    "sel = Selector(text=text)\n",
    "sel"
   ]
  },
  {
   "cell_type": "markdown",
   "metadata": {},
   "source": [
    "One important thing to note is that if you’re using Python 2, make sure to use an unicode object for the text argument. Selector expects text to be an unicode object in Python 2 or an str object in Python 3.\n",
    "\n",
    "Once you have created the Selector object, you can use CSS or XPath expressions to select elements:"
   ]
  },
  {
   "cell_type": "code",
   "execution_count": 3,
   "metadata": {},
   "outputs": [
    {
     "data": {
      "text/plain": [
       "[<Selector xpath='descendant-or-self::h1' data='<h1>Hello, Parsel!</h1>'>]"
      ]
     },
     "execution_count": 3,
     "metadata": {},
     "output_type": "execute_result"
    }
   ],
   "source": [
    "sel.css('h1')"
   ]
  },
  {
   "cell_type": "code",
   "execution_count": 4,
   "metadata": {},
   "outputs": [
    {
     "data": {
      "text/plain": [
       "[<Selector xpath='//h1' data='<h1>Hello, Parsel!</h1>'>]"
      ]
     },
     "execution_count": 4,
     "metadata": {},
     "output_type": "execute_result"
    }
   ],
   "source": [
    "sel.xpath('//h1')  # the same, but now with XPath"
   ]
  },
  {
   "cell_type": "markdown",
   "metadata": {},
   "source": [
    "And extract data from those elements:"
   ]
  },
  {
   "cell_type": "code",
   "execution_count": 5,
   "metadata": {},
   "outputs": [
    {
     "data": {
      "text/plain": [
       "'Hello, Parsel!'"
      ]
     },
     "execution_count": 5,
     "metadata": {},
     "output_type": "execute_result"
    }
   ],
   "source": [
    "sel.css('h1::text').get()"
   ]
  },
  {
   "cell_type": "code",
   "execution_count": 6,
   "metadata": {},
   "outputs": [
    {
     "data": {
      "text/plain": [
       "['Hello, Parsel!']"
      ]
     },
     "execution_count": 6,
     "metadata": {},
     "output_type": "execute_result"
    }
   ],
   "source": [
    "sel.xpath('//h1/text()').getall()"
   ]
  },
  {
   "cell_type": "markdown",
   "metadata": {},
   "source": [
    "XPath is a language for selecting nodes in XML documents, which can also be used with HTML. CSS is a language for applying styles to HTML documents. It defines selectors to associate those styles with specific HTML elements.\n",
    "\n",
    "You can use either language you’re more comfortable with, though you may find that in some specific cases XPath is more powerful than CSS."
   ]
  },
  {
   "cell_type": "markdown",
   "metadata": {},
   "source": [
    "### Using selectors\n",
    "\n",
    "To explain how to use the selectors we’ll use the requests library to download an example page located in the Parsel’s documentation:\n",
    "\n",
    "[](http://parsel.readthedocs.org/en/latest/_static/selectors-sample1.html)\n",
    "\n",
    "\n",
    "For the sake of completeness, here’s its full HTML code:\n",
    "\n",
    "```\n",
    "<html>\n",
    " <head>\n",
    "  <base href='http://example.com/' />\n",
    "  <title>Example website</title>\n",
    " </head>\n",
    " <body>\n",
    "  <div id='images'>\n",
    "   <a href='image1.html'>Name: My image 1 <br /><img src='image1_thumb.jpg' /></a>\n",
    "   <a href='image2.html'>Name: My image 2 <br /><img src='image2_thumb.jpg' /></a>\n",
    "   <a href='image3.html'>Name: My image 3 <br /><img src='image3_thumb.jpg' /></a>\n",
    "   <a href='image4.html'>Name: My image 4 <br /><img src='image4_thumb.jpg' /></a>\n",
    "   <a href='image5.html'>Name: My image 5 <br /><img src='image5_thumb.jpg' /></a>\n",
    "  </div>\n",
    " </body>\n",
    "</html>\n",
    "```\n",
    "\n",
    "\n",
    "So, let’s download that page and create a selector for it:"
   ]
  },
  {
   "cell_type": "code",
   "execution_count": 7,
   "metadata": {},
   "outputs": [],
   "source": [
    "import requests\n",
    "from parsel import Selector"
   ]
  },
  {
   "cell_type": "code",
   "execution_count": 8,
   "metadata": {},
   "outputs": [],
   "source": [
    "url = 'http://parsel.readthedocs.org/en/latest/_static/selectors-sample1.html'\n",
    "text = requests.get(url).text\n",
    "selector = Selector(text=text)"
   ]
  },
  {
   "cell_type": "markdown",
   "metadata": {},
   "source": [
    "Since we’re dealing with HTML, the default type for Selector, we don’t need to specify the type argument.\n",
    "\n",
    "So, by looking at the HTML code of that page, let’s construct an XPath for selecting the text inside the title tag:"
   ]
  },
  {
   "cell_type": "code",
   "execution_count": 9,
   "metadata": {},
   "outputs": [
    {
     "data": {
      "text/plain": [
       "[<Selector xpath='//title/text()' data='Example website'>]"
      ]
     },
     "execution_count": 9,
     "metadata": {},
     "output_type": "execute_result"
    }
   ],
   "source": [
    "selector.xpath('//title/text()')"
   ]
  },
  {
   "cell_type": "markdown",
   "metadata": {},
   "source": [
    "You can also ask the same thing using CSS instead:"
   ]
  },
  {
   "cell_type": "code",
   "execution_count": 10,
   "metadata": {},
   "outputs": [
    {
     "data": {
      "text/plain": [
       "[<Selector xpath='descendant-or-self::title/text()' data='Example website'>]"
      ]
     },
     "execution_count": 10,
     "metadata": {},
     "output_type": "execute_result"
    }
   ],
   "source": [
    "selector.css('title::text')"
   ]
  },
  {
   "cell_type": "markdown",
   "metadata": {},
   "source": [
    "To actually extract the textual data, you must call the selector .get() or .getall() methods, as follows:"
   ]
  },
  {
   "cell_type": "code",
   "execution_count": 11,
   "metadata": {},
   "outputs": [
    {
     "data": {
      "text/plain": [
       "['Example website']"
      ]
     },
     "execution_count": 11,
     "metadata": {},
     "output_type": "execute_result"
    }
   ],
   "source": [
    "selector.xpath('//title/text()').getall()"
   ]
  },
  {
   "cell_type": "code",
   "execution_count": 12,
   "metadata": {},
   "outputs": [
    {
     "data": {
      "text/plain": [
       "'Example website'"
      ]
     },
     "execution_count": 12,
     "metadata": {},
     "output_type": "execute_result"
    }
   ],
   "source": [
    "selector.xpath('//title/text()').get()"
   ]
  },
  {
   "cell_type": "markdown",
   "metadata": {},
   "source": [
    ".get() always returns a single result; if there are several matches, content of a first match is returned; if there are no matches, None is returned. .getall() returns a list with all results.\n",
    "\n",
    "Notice that CSS selectors can select text or attribute nodes using CSS3 pseudo-elements:"
   ]
  },
  {
   "cell_type": "code",
   "execution_count": 13,
   "metadata": {},
   "outputs": [
    {
     "data": {
      "text/plain": [
       "'Example website'"
      ]
     },
     "execution_count": 13,
     "metadata": {},
     "output_type": "execute_result"
    }
   ],
   "source": [
    "selector.css('title::text').get()"
   ]
  },
  {
   "cell_type": "markdown",
   "metadata": {},
   "source": [
    "As you can see, .xpath() and .css() methods return a SelectorList instance, which is a list of new selectors. This API can be used for quickly selecting nested data:"
   ]
  },
  {
   "cell_type": "code",
   "execution_count": 14,
   "metadata": {},
   "outputs": [
    {
     "data": {
      "text/plain": [
       "['image1_thumb.jpg',\n",
       " 'image2_thumb.jpg',\n",
       " 'image3_thumb.jpg',\n",
       " 'image4_thumb.jpg',\n",
       " 'image5_thumb.jpg']"
      ]
     },
     "execution_count": 14,
     "metadata": {},
     "output_type": "execute_result"
    }
   ],
   "source": [
    "selector.css('img').xpath('@src').getall()"
   ]
  },
  {
   "cell_type": "markdown",
   "metadata": {},
   "source": [
    "If you want to extract only the first matched element, you can call the selector .get() (or its alias .extract_first() commonly used in previous parsel versions):"
   ]
  },
  {
   "cell_type": "code",
   "execution_count": 15,
   "metadata": {},
   "outputs": [
    {
     "data": {
      "text/plain": [
       "'Name: My image 1 '"
      ]
     },
     "execution_count": 15,
     "metadata": {},
     "output_type": "execute_result"
    }
   ],
   "source": [
    "selector.xpath('//div[@id=\"images\"]/a/text()').get()"
   ]
  },
  {
   "cell_type": "markdown",
   "metadata": {},
   "source": [
    "It returns None if no element was found:"
   ]
  },
  {
   "cell_type": "code",
   "execution_count": 16,
   "metadata": {},
   "outputs": [
    {
     "data": {
      "text/plain": [
       "True"
      ]
     },
     "execution_count": 16,
     "metadata": {},
     "output_type": "execute_result"
    }
   ],
   "source": [
    "selector.xpath('//div[@id=\"not-exists\"]/text()').get() is None"
   ]
  },
  {
   "cell_type": "markdown",
   "metadata": {},
   "source": [
    "Instead of using e.g. '@src' XPath it is possible to query for attributes using .attrib property of a Selector:"
   ]
  },
  {
   "cell_type": "code",
   "execution_count": 17,
   "metadata": {},
   "outputs": [
    {
     "data": {
      "text/plain": [
       "['image1_thumb.jpg',\n",
       " 'image2_thumb.jpg',\n",
       " 'image3_thumb.jpg',\n",
       " 'image4_thumb.jpg',\n",
       " 'image5_thumb.jpg']"
      ]
     },
     "execution_count": 17,
     "metadata": {},
     "output_type": "execute_result"
    }
   ],
   "source": [
    "[img.attrib['src'] for img in selector.css('img')]"
   ]
  },
  {
   "cell_type": "markdown",
   "metadata": {},
   "source": [
    "As a shortcut, .attrib is also available on SelectorList directly; it returns attributes for the first matching element:"
   ]
  },
  {
   "cell_type": "code",
   "execution_count": 18,
   "metadata": {},
   "outputs": [
    {
     "data": {
      "text/plain": [
       "'image1_thumb.jpg'"
      ]
     },
     "execution_count": 18,
     "metadata": {},
     "output_type": "execute_result"
    }
   ],
   "source": [
    "selector.css('img').attrib['src']"
   ]
  },
  {
   "cell_type": "markdown",
   "metadata": {},
   "source": [
    "This is most useful when only a single result is expected, e.g. when selecting by id, or selecting unique elements on a web page:"
   ]
  },
  {
   "cell_type": "code",
   "execution_count": 19,
   "metadata": {},
   "outputs": [
    {
     "data": {
      "text/plain": [
       "'http://example.com/'"
      ]
     },
     "execution_count": 19,
     "metadata": {},
     "output_type": "execute_result"
    }
   ],
   "source": [
    "selector.css('base').attrib['href']"
   ]
  },
  {
   "cell_type": "markdown",
   "metadata": {},
   "source": [
    "Now we’re going to get the base URL and some image links:"
   ]
  },
  {
   "cell_type": "code",
   "execution_count": 20,
   "metadata": {},
   "outputs": [
    {
     "data": {
      "text/plain": [
       "'http://example.com/'"
      ]
     },
     "execution_count": 20,
     "metadata": {},
     "output_type": "execute_result"
    }
   ],
   "source": [
    "selector.xpath('//base/@href').get()"
   ]
  },
  {
   "cell_type": "code",
   "execution_count": 21,
   "metadata": {},
   "outputs": [
    {
     "data": {
      "text/plain": [
       "'http://example.com/'"
      ]
     },
     "execution_count": 21,
     "metadata": {},
     "output_type": "execute_result"
    }
   ],
   "source": [
    "selector.css('base::attr(href)').get()"
   ]
  },
  {
   "cell_type": "code",
   "execution_count": 22,
   "metadata": {},
   "outputs": [
    {
     "data": {
      "text/plain": [
       "'http://example.com/'"
      ]
     },
     "execution_count": 22,
     "metadata": {},
     "output_type": "execute_result"
    }
   ],
   "source": [
    "selector.css('base').attrib['href']"
   ]
  },
  {
   "cell_type": "code",
   "execution_count": 23,
   "metadata": {},
   "outputs": [
    {
     "data": {
      "text/plain": [
       "['image1.html', 'image2.html', 'image3.html', 'image4.html', 'image5.html']"
      ]
     },
     "execution_count": 23,
     "metadata": {},
     "output_type": "execute_result"
    }
   ],
   "source": [
    "selector.xpath('//a[contains(@href, \"image\")]/@href').getall()"
   ]
  },
  {
   "cell_type": "code",
   "execution_count": 24,
   "metadata": {},
   "outputs": [
    {
     "data": {
      "text/plain": [
       "['image1.html', 'image2.html', 'image3.html', 'image4.html', 'image5.html']"
      ]
     },
     "execution_count": 24,
     "metadata": {},
     "output_type": "execute_result"
    }
   ],
   "source": [
    "selector.css('a[href*=image]::attr(href)').getall()"
   ]
  },
  {
   "cell_type": "code",
   "execution_count": 25,
   "metadata": {},
   "outputs": [
    {
     "data": {
      "text/plain": [
       "['image1_thumb.jpg',\n",
       " 'image2_thumb.jpg',\n",
       " 'image3_thumb.jpg',\n",
       " 'image4_thumb.jpg',\n",
       " 'image5_thumb.jpg']"
      ]
     },
     "execution_count": 25,
     "metadata": {},
     "output_type": "execute_result"
    }
   ],
   "source": [
    "selector.xpath('//a[contains(@href, \"image\")]/img/@src').getall()"
   ]
  },
  {
   "cell_type": "code",
   "execution_count": 26,
   "metadata": {},
   "outputs": [
    {
     "data": {
      "text/plain": [
       "['image1_thumb.jpg',\n",
       " 'image2_thumb.jpg',\n",
       " 'image3_thumb.jpg',\n",
       " 'image4_thumb.jpg',\n",
       " 'image5_thumb.jpg']"
      ]
     },
     "execution_count": 26,
     "metadata": {},
     "output_type": "execute_result"
    }
   ],
   "source": [
    "selector.css('a[href*=image] img::attr(src)').getall()"
   ]
  },
  {
   "cell_type": "markdown",
   "metadata": {},
   "source": [
    "### Nesting selectors\n",
    "\n",
    "The selection methods (.xpath() or .css()) return a list of selectors of the same type, so you can call the selection methods for those selectors too. Here’s an example:"
   ]
  },
  {
   "cell_type": "code",
   "execution_count": 27,
   "metadata": {},
   "outputs": [
    {
     "data": {
      "text/plain": [
       "['<a href=\"image1.html\">Name: My image 1 <br><img src=\"image1_thumb.jpg\"></a>',\n",
       " '<a href=\"image2.html\">Name: My image 2 <br><img src=\"image2_thumb.jpg\"></a>',\n",
       " '<a href=\"image3.html\">Name: My image 3 <br><img src=\"image3_thumb.jpg\"></a>',\n",
       " '<a href=\"image4.html\">Name: My image 4 <br><img src=\"image4_thumb.jpg\"></a>',\n",
       " '<a href=\"image5.html\">Name: My image 5 <br><img src=\"image5_thumb.jpg\"></a>']"
      ]
     },
     "execution_count": 27,
     "metadata": {},
     "output_type": "execute_result"
    }
   ],
   "source": [
    "links = selector.xpath('//a[contains(@href, \"image\")]')\n",
    "links.getall()"
   ]
  },
  {
   "cell_type": "code",
   "execution_count": 28,
   "metadata": {},
   "outputs": [
    {
     "name": "stdout",
     "output_type": "stream",
     "text": [
      "Link number 0 points to url 'image1.html' and image 'image1_thumb.jpg'\n",
      "Link number 1 points to url 'image2.html' and image 'image2_thumb.jpg'\n",
      "Link number 2 points to url 'image3.html' and image 'image3_thumb.jpg'\n",
      "Link number 3 points to url 'image4.html' and image 'image4_thumb.jpg'\n",
      "Link number 4 points to url 'image5.html' and image 'image5_thumb.jpg'\n"
     ]
    }
   ],
   "source": [
    "for index, link in enumerate(links):\n",
    "    args = (index, link.xpath('@href').get(), link.xpath('img/@src').get())\n",
    "    print('Link number %d points to url %r and image %r' % args)"
   ]
  },
  {
   "cell_type": "markdown",
   "metadata": {},
   "source": [
    "### Selecting element attributes\n",
    "\n",
    "There are several ways to get a value of an attribute. First, one can use XPath syntax:"
   ]
  },
  {
   "cell_type": "code",
   "execution_count": 29,
   "metadata": {},
   "outputs": [
    {
     "data": {
      "text/plain": [
       "['image1.html', 'image2.html', 'image3.html', 'image4.html', 'image5.html']"
      ]
     },
     "execution_count": 29,
     "metadata": {},
     "output_type": "execute_result"
    }
   ],
   "source": [
    "selector.xpath(\"//a/@href\").getall()"
   ]
  },
  {
   "cell_type": "markdown",
   "metadata": {},
   "source": [
    "XPath syntax has a few advantages: it is a standard XPath feature, and @attributes can be used in other parts of an XPath expression - e.g. it is possible to filter by attribute value.\n",
    "\n",
    "parsel also provides an extension to CSS selectors (::attr(...)) which allows to get attribute values:"
   ]
  },
  {
   "cell_type": "code",
   "execution_count": 30,
   "metadata": {},
   "outputs": [
    {
     "data": {
      "text/plain": [
       "['image1.html', 'image2.html', 'image3.html', 'image4.html', 'image5.html']"
      ]
     },
     "execution_count": 30,
     "metadata": {},
     "output_type": "execute_result"
    }
   ],
   "source": [
    "selector.css('a::attr(href)').getall()"
   ]
  },
  {
   "cell_type": "markdown",
   "metadata": {},
   "source": [
    "In addition to that, there is a .attrib property of Selector. You can use it if you prefer to lookup attributes in Python code, without using XPaths or CSS extensions:"
   ]
  },
  {
   "cell_type": "code",
   "execution_count": 31,
   "metadata": {},
   "outputs": [
    {
     "data": {
      "text/plain": [
       "['image1.html', 'image2.html', 'image3.html', 'image4.html', 'image5.html']"
      ]
     },
     "execution_count": 31,
     "metadata": {},
     "output_type": "execute_result"
    }
   ],
   "source": [
    "[a.attrib['href'] for a in selector.css('a')]"
   ]
  },
  {
   "cell_type": "markdown",
   "metadata": {},
   "source": [
    "This property is also available on SelectorList; it returns a dictionary with attributes of a first matching element. It is convenient to use when a selector is expected to give a single result (e.g. when selecting by element ID, or when selecting an unique element on a page):"
   ]
  },
  {
   "cell_type": "code",
   "execution_count": 32,
   "metadata": {},
   "outputs": [
    {
     "data": {
      "text/plain": [
       "{'href': 'http://example.com/'}"
      ]
     },
     "execution_count": 32,
     "metadata": {},
     "output_type": "execute_result"
    }
   ],
   "source": [
    "selector.css('base').attrib"
   ]
  },
  {
   "cell_type": "code",
   "execution_count": 33,
   "metadata": {},
   "outputs": [
    {
     "data": {
      "text/plain": [
       "'http://example.com/'"
      ]
     },
     "execution_count": 33,
     "metadata": {},
     "output_type": "execute_result"
    }
   ],
   "source": [
    "selector.css('base').attrib['href']"
   ]
  },
  {
   "cell_type": "markdown",
   "metadata": {},
   "source": [
    ".attrib property of an empty SelectorList is empty:"
   ]
  },
  {
   "cell_type": "code",
   "execution_count": 34,
   "metadata": {},
   "outputs": [
    {
     "data": {
      "text/plain": [
       "{}"
      ]
     },
     "execution_count": 34,
     "metadata": {},
     "output_type": "execute_result"
    }
   ],
   "source": [
    "selector.css('foo').attrib"
   ]
  },
  {
   "cell_type": "markdown",
   "metadata": {},
   "source": [
    "### Using selectors with regular expressions\n",
    "\n",
    "Selector also has a .re() method for extracting data using regular expressions. However, unlike using .xpath() or .css() methods, .re() returns a list of unicode strings. So you can’t construct nested .re() calls.\n",
    "\n",
    "Here’s an example used to extract image names from the HTML code above:"
   ]
  },
  {
   "cell_type": "code",
   "execution_count": 35,
   "metadata": {},
   "outputs": [
    {
     "data": {
      "text/plain": [
       "['My image 1 ', 'My image 2 ', 'My image 3 ', 'My image 4 ', 'My image 5 ']"
      ]
     },
     "execution_count": 35,
     "metadata": {},
     "output_type": "execute_result"
    }
   ],
   "source": [
    "selector.xpath('//a[contains(@href, \"image\")]/text()').re(r'Name:\\s*(.*)')"
   ]
  },
  {
   "cell_type": "markdown",
   "metadata": {},
   "source": [
    "There’s an additional helper reciprocating .get() (and its alias .extract_first()) for .re(), named .re_first(). Use it to extract just the first matching string:"
   ]
  },
  {
   "cell_type": "code",
   "execution_count": 36,
   "metadata": {},
   "outputs": [
    {
     "data": {
      "text/plain": [
       "'My image 1 '"
      ]
     },
     "execution_count": 36,
     "metadata": {},
     "output_type": "execute_result"
    }
   ],
   "source": [
    "selector.xpath('//a[contains(@href, \"image\")]/text()').re_first(r'Name:\\s*(.*)')"
   ]
  },
  {
   "cell_type": "markdown",
   "metadata": {},
   "source": [
    "### Working with relative XPaths\n",
    "\n",
    "Keep in mind that if you are nesting selectors and use an XPath that starts with /, that XPath will be absolute to the document and not relative to the selector you’re calling it from.\n",
    "\n",
    "For example, suppose you want to extract all <p> elements inside <div> elements. First, you would get all <div> elements:"
   ]
  },
  {
   "cell_type": "code",
   "execution_count": 37,
   "metadata": {},
   "outputs": [],
   "source": [
    "divs = selector.xpath('//div')"
   ]
  },
  {
   "cell_type": "markdown",
   "metadata": {},
   "source": [
    "At first, you may be tempted to use the following approach, which is wrong, as it actually extracts all <p> elements from the document, not only those inside <div> elements:"
   ]
  },
  {
   "cell_type": "code",
   "execution_count": 38,
   "metadata": {},
   "outputs": [],
   "source": [
    "for p in divs.xpath('//p'):  # this is wrong - gets all <p> from the whole document\n",
    "    print(p.get())"
   ]
  },
  {
   "cell_type": "markdown",
   "metadata": {},
   "source": [
    "This is the proper way to do it (note the dot prefixing the .//p XPath):"
   ]
  },
  {
   "cell_type": "code",
   "execution_count": 39,
   "metadata": {},
   "outputs": [],
   "source": [
    "for p in divs.xpath('.//p'):  # extracts all <p> inside\n",
    "    print(p.get())"
   ]
  },
  {
   "cell_type": "markdown",
   "metadata": {},
   "source": [
    "Another common case would be to extract all direct <p> children:"
   ]
  },
  {
   "cell_type": "code",
   "execution_count": 40,
   "metadata": {},
   "outputs": [],
   "source": [
    "for p in divs.xpath('p'):\n",
    "    print(p.get())"
   ]
  },
  {
   "cell_type": "markdown",
   "metadata": {},
   "source": [
    "For more details about relative XPaths see the Location Paths section in the XPath specification."
   ]
  },
  {
   "cell_type": "markdown",
   "metadata": {},
   "source": [
    "### Regular expressions\n",
    "The test() function, for example, can prove quite useful when XPath’s starts-with() or contains() are not sufficient.\n",
    "\n",
    "Example selecting links in list item with a “class” attribute ending with a digit:"
   ]
  },
  {
   "cell_type": "code",
   "execution_count": 41,
   "metadata": {},
   "outputs": [],
   "source": [
    "from parsel import Selector"
   ]
  },
  {
   "cell_type": "code",
   "execution_count": 42,
   "metadata": {},
   "outputs": [],
   "source": [
    "doc = u\"\"\"\n",
    "<div>\n",
    "    <ul>\n",
    "        <li class=\"item-0\"><a href=\"link1.html\">first item</a></li>\n",
    "        <li class=\"item-1\"><a href=\"link2.html\">second item</a></li>\n",
    "        <li class=\"item-inactive\"><a href=\"link3.html\">third item</a></li>\n",
    "        <li class=\"item-1\"><a href=\"link4.html\">fourth item</a></li>\n",
    "        <li class=\"item-0\"><a href=\"link5.html\">fifth item</a></li>\n",
    "    </ul>\n",
    "</div>\n",
    "\"\"\""
   ]
  },
  {
   "cell_type": "code",
   "execution_count": 43,
   "metadata": {},
   "outputs": [
    {
     "data": {
      "text/plain": [
       "['link1.html', 'link2.html', 'link3.html', 'link4.html', 'link5.html']"
      ]
     },
     "execution_count": 43,
     "metadata": {},
     "output_type": "execute_result"
    }
   ],
   "source": [
    "sel = Selector(text=doc)\n",
    "sel.xpath('//li//@href').getall()"
   ]
  },
  {
   "cell_type": "code",
   "execution_count": 44,
   "metadata": {},
   "outputs": [
    {
     "data": {
      "text/plain": [
       "['link1.html', 'link2.html', 'link4.html', 'link5.html']"
      ]
     },
     "execution_count": 44,
     "metadata": {},
     "output_type": "execute_result"
    }
   ],
   "source": [
    "sel.xpath('//li[re:test(@class, \"item-\\d$\")]//@href').getall()"
   ]
  },
  {
   "cell_type": "markdown",
   "metadata": {},
   "source": [
    "### Set operations\n",
    "These can be handy for excluding parts of a document tree before extracting text elements for example.\n",
    "\n",
    "Example extracting microdata (sample content taken from http://schema.org/Product) with groups of itemscopes and corresponding itemprops:"
   ]
  },
  {
   "cell_type": "code",
   "execution_count": 45,
   "metadata": {},
   "outputs": [],
   "source": [
    "doc = u\"\"\"\n",
    "<div itemscope itemtype=\"http://schema.org/Product\">\n",
    " <span itemprop=\"name\">Kenmore White 17\" Microwave</span>\n",
    " <img src=\"kenmore-microwave-17in.jpg\" alt='Kenmore 17\" Microwave' />\n",
    " <div itemprop=\"aggregateRating\"\n",
    "   itemscope itemtype=\"http://schema.org/AggregateRating\">\n",
    "  Rated <span itemprop=\"ratingValue\">3.5</span>/5\n",
    "  based on <span itemprop=\"reviewCount\">11</span> customer reviews\n",
    " </div>\n",
    " <div itemprop=\"offers\" itemscope itemtype=\"http://schema.org/Offer\">\n",
    "   <span itemprop=\"price\">$55.00</span>\n",
    "   <link itemprop=\"availability\" href=\"http://schema.org/InStock\" />In stock\n",
    " </div>\n",
    " Product description:\n",
    " <span itemprop=\"description\">0.7 cubic feet countertop microwave.\n",
    " Has six preset cooking categories and convenience features like\n",
    " Add-A-Minute and Child Lock.</span>\n",
    " Customer reviews:\n",
    " <div itemprop=\"review\" itemscope itemtype=\"http://schema.org/Review\">\n",
    "   <span itemprop=\"name\">Not a happy camper</span> -\n",
    "   by <span itemprop=\"author\">Ellie</span>,\n",
    "   <meta itemprop=\"datePublished\" content=\"2011-04-01\">April 1, 2011\n",
    "   <div itemprop=\"reviewRating\" itemscope itemtype=\"http://schema.org/Rating\">\n",
    "     <meta itemprop=\"worstRating\" content = \"1\">\n",
    "     <span itemprop=\"ratingValue\">1</span>/\n",
    "     <span itemprop=\"bestRating\">5</span>stars\n",
    "   </div>\n",
    "   <span itemprop=\"description\">The lamp burned out and now I have to replace\n",
    "   it. </span>\n",
    " </div>\n",
    " <div itemprop=\"review\" itemscope itemtype=\"http://schema.org/Review\">\n",
    "   <span itemprop=\"name\">Value purchase</span> -\n",
    "   by <span itemprop=\"author\">Lucas</span>,\n",
    "   <meta itemprop=\"datePublished\" content=\"2011-03-25\">March 25, 2011\n",
    "   <div itemprop=\"reviewRating\" itemscope itemtype=\"http://schema.org/Rating\">\n",
    "     <meta itemprop=\"worstRating\" content = \"1\"/>\n",
    "     <span itemprop=\"ratingValue\">4</span>/\n",
    "     <span itemprop=\"bestRating\">5</span>stars\n",
    "   </div>\n",
    "   <span itemprop=\"description\">Great microwave for the price. It is small and\n",
    "   fits in my apartment.</span>\n",
    " </div>\n",
    " ...\n",
    "</div>\n",
    "\"\"\""
   ]
  },
  {
   "cell_type": "code",
   "execution_count": 46,
   "metadata": {},
   "outputs": [
    {
     "name": "stdout",
     "output_type": "stream",
     "text": [
      "current scope: ['http://schema.org/Product']\n",
      "    properties: ['name', 'aggregateRating', 'offers', 'description', 'review', 'review']\n",
      "\n",
      "current scope: ['http://schema.org/AggregateRating']\n",
      "    properties: ['ratingValue', 'reviewCount']\n",
      "\n",
      "current scope: ['http://schema.org/Offer']\n",
      "    properties: ['price', 'availability']\n",
      "\n",
      "current scope: ['http://schema.org/Review']\n",
      "    properties: ['name', 'author', 'datePublished', 'reviewRating', 'description']\n",
      "\n",
      "current scope: ['http://schema.org/Rating']\n",
      "    properties: ['worstRating', 'ratingValue', 'bestRating']\n",
      "\n",
      "current scope: ['http://schema.org/Review']\n",
      "    properties: ['name', 'author', 'datePublished', 'reviewRating', 'description']\n",
      "\n",
      "current scope: ['http://schema.org/Rating']\n",
      "    properties: ['worstRating', 'ratingValue', 'bestRating']\n",
      "\n"
     ]
    }
   ],
   "source": [
    "sel = Selector(text=doc, type=\"html\")\n",
    "for scope in sel.xpath('//div[@itemscope]'):\n",
    "    print(\"current scope:\", scope.xpath('@itemtype').getall())\n",
    "    props = scope.xpath('''\n",
    "                set:difference(./descendant::*/@itemprop,\n",
    "                               .//*[@itemscope]/*/@itemprop)''')\n",
    "    print(\"    properties: %s\" % (props.getall()))\n",
    "    print(\"\")"
   ]
  },
  {
   "cell_type": "markdown",
   "metadata": {},
   "source": [
    "Here we first iterate over itemscope elements, and for each one, we look for all itemprops elements and exclude those that are themselves inside another itemscope."
   ]
  },
  {
   "cell_type": "markdown",
   "metadata": {},
   "source": [
    "### Other XPath extensions\n",
    "\n",
    "Parsel also defines a sorely missed XPath extension function has-class that returns True for nodes that have all of the specified HTML classes:"
   ]
  },
  {
   "cell_type": "code",
   "execution_count": 47,
   "metadata": {},
   "outputs": [],
   "source": [
    "from parsel import Selector"
   ]
  },
  {
   "cell_type": "code",
   "execution_count": 48,
   "metadata": {},
   "outputs": [],
   "source": [
    "sel = Selector(\"\"\"\n",
    "        <p class=\"foo bar-baz\">First</p>\n",
    "        <p class=\"foo\">Second</p>\n",
    "        <p class=\"bar\">Third</p>\n",
    "        <p>Fourth</p>\n",
    "\"\"\")"
   ]
  },
  {
   "cell_type": "code",
   "execution_count": 49,
   "metadata": {},
   "outputs": [
    {
     "data": {
      "text/plain": [
       "[<Selector xpath='//p[has-class(\"foo\")]' data='<p class=\"foo bar-baz\">First</p>'>,\n",
       " <Selector xpath='//p[has-class(\"foo\")]' data='<p class=\"foo\">Second</p>'>]"
      ]
     },
     "execution_count": 49,
     "metadata": {},
     "output_type": "execute_result"
    }
   ],
   "source": [
    "sel.xpath('//p[has-class(\"foo\")]')"
   ]
  },
  {
   "cell_type": "code",
   "execution_count": 50,
   "metadata": {},
   "outputs": [
    {
     "data": {
      "text/plain": [
       "[<Selector xpath='//p[has-class(\"foo\", \"bar-baz\")]' data='<p class=\"foo bar-baz\">First</p>'>]"
      ]
     },
     "execution_count": 50,
     "metadata": {},
     "output_type": "execute_result"
    }
   ],
   "source": [
    "sel.xpath('//p[has-class(\"foo\", \"bar-baz\")]')"
   ]
  },
  {
   "cell_type": "code",
   "execution_count": 51,
   "metadata": {},
   "outputs": [
    {
     "data": {
      "text/plain": [
       "[]"
      ]
     },
     "execution_count": 51,
     "metadata": {},
     "output_type": "execute_result"
    }
   ],
   "source": [
    "sel.xpath('//p[has-class(\"foo\", \"bar\")]')"
   ]
  },
  {
   "cell_type": "markdown",
   "metadata": {},
   "source": [
    "So XPath //p[has-class(\"foo\", \"bar-baz\")] is roughly equivalent to CSS p.foo.bar-baz. Please note, that it is slower in most of the cases, because it’s a pure-Python function that’s invoked for every node in question whereas the CSS lookup is translated into XPath and thus runs more efficiently, so performance-wise its uses are limited to situations that are not easily described with CSS selectors.\n",
    "\n",
    "Parsel also simplifies adding your own XPath extensions."
   ]
  },
  {
   "cell_type": "markdown",
   "metadata": {},
   "source": [
    "### Using text nodes in a condition\n",
    "\n",
    "When you need to use the text content as argument to an XPath string function, avoid using .//text() and use just . instead.\n",
    "\n",
    "This is because the expression .//text() yields a collection of text elements – a node-set. And when a node-set is converted to a string, which happens when it is passed as argument to a string function like contains() or starts-with(), it results in the text for the first element only.\n",
    "\n",
    "Example:"
   ]
  },
  {
   "cell_type": "code",
   "execution_count": 52,
   "metadata": {},
   "outputs": [],
   "source": [
    "from parsel import Selector"
   ]
  },
  {
   "cell_type": "code",
   "execution_count": 53,
   "metadata": {},
   "outputs": [],
   "source": [
    "sel = Selector(text='<a href=\"#\">Click here to go to the <strong>Next Page</strong></a>')"
   ]
  },
  {
   "cell_type": "markdown",
   "metadata": {},
   "source": [
    "Converting a node-set to string:"
   ]
  },
  {
   "cell_type": "code",
   "execution_count": 54,
   "metadata": {},
   "outputs": [
    {
     "data": {
      "text/plain": [
       "['Click here to go to the ', 'Next Page']"
      ]
     },
     "execution_count": 54,
     "metadata": {},
     "output_type": "execute_result"
    }
   ],
   "source": [
    "sel.xpath('//a//text()').getall() # take a peek at the node-set"
   ]
  },
  {
   "cell_type": "code",
   "execution_count": 55,
   "metadata": {},
   "outputs": [
    {
     "data": {
      "text/plain": [
       "['Click here to go to the ']"
      ]
     },
     "execution_count": 55,
     "metadata": {},
     "output_type": "execute_result"
    }
   ],
   "source": [
    "sel.xpath(\"string(//a[1]//text())\").getall() # convert it to string"
   ]
  },
  {
   "cell_type": "markdown",
   "metadata": {},
   "source": [
    "A node converted to a string, however, puts together the text of itself plus of all its descendants:"
   ]
  },
  {
   "cell_type": "code",
   "execution_count": 56,
   "metadata": {},
   "outputs": [
    {
     "data": {
      "text/plain": [
       "['<a href=\"#\">Click here to go to the <strong>Next Page</strong></a>']"
      ]
     },
     "execution_count": 56,
     "metadata": {},
     "output_type": "execute_result"
    }
   ],
   "source": [
    "sel.xpath(\"//a[1]\").getall() # select the first node"
   ]
  },
  {
   "cell_type": "code",
   "execution_count": 57,
   "metadata": {},
   "outputs": [
    {
     "data": {
      "text/plain": [
       "['Click here to go to the Next Page']"
      ]
     },
     "execution_count": 57,
     "metadata": {},
     "output_type": "execute_result"
    }
   ],
   "source": [
    "sel.xpath(\"string(//a[1])\").getall() # convert it to string"
   ]
  },
  {
   "cell_type": "markdown",
   "metadata": {},
   "source": [
    "So, using the .//text() node-set won’t select anything in this case:"
   ]
  },
  {
   "cell_type": "code",
   "execution_count": 58,
   "metadata": {},
   "outputs": [
    {
     "data": {
      "text/plain": [
       "[]"
      ]
     },
     "execution_count": 58,
     "metadata": {},
     "output_type": "execute_result"
    }
   ],
   "source": [
    "sel.xpath(\"//a[contains(.//text(), 'Next Page')]\").getall()"
   ]
  },
  {
   "cell_type": "markdown",
   "metadata": {},
   "source": [
    "But using the . to mean the node, works:"
   ]
  },
  {
   "cell_type": "code",
   "execution_count": 59,
   "metadata": {},
   "outputs": [
    {
     "data": {
      "text/plain": [
       "['<a href=\"#\">Click here to go to the <strong>Next Page</strong></a>']"
      ]
     },
     "execution_count": 59,
     "metadata": {},
     "output_type": "execute_result"
    }
   ],
   "source": [
    "sel.xpath(\"//a[contains(., 'Next Page')]\").getall()"
   ]
  },
  {
   "cell_type": "markdown",
   "metadata": {},
   "source": [
    "### Beware of the difference between //node[1] and (//node)[1]\n",
    "\n",
    "`//node[1]` selects all the nodes occurring first under their respective parents.\n",
    "\n",
    "`(//node)[1]` selects all the nodes in the document, and then gets only the first of them.\n",
    "\n",
    "Example:"
   ]
  },
  {
   "cell_type": "code",
   "execution_count": 60,
   "metadata": {},
   "outputs": [],
   "source": [
    "from parsel import Selector"
   ]
  },
  {
   "cell_type": "code",
   "execution_count": 61,
   "metadata": {},
   "outputs": [],
   "source": [
    "sel = Selector(text=\"\"\"\n",
    "     <ul class=\"list\">\n",
    "         <li>1</li>\n",
    "         <li>2</li>\n",
    "         <li>3</li>\n",
    "     </ul>\n",
    "     <ul class=\"list\">\n",
    "         <li>4</li>\n",
    "         <li>5</li>\n",
    "         <li>6</li>\n",
    "     </ul>\"\"\")"
   ]
  },
  {
   "cell_type": "code",
   "execution_count": 62,
   "metadata": {},
   "outputs": [],
   "source": [
    "xp = lambda x: sel.xpath(x).getall()"
   ]
  },
  {
   "cell_type": "markdown",
   "metadata": {},
   "source": [
    "This gets all first `<li>` elements under whatever it is its parent:"
   ]
  },
  {
   "cell_type": "code",
   "execution_count": 63,
   "metadata": {},
   "outputs": [
    {
     "data": {
      "text/plain": [
       "['<li>1</li>', '<li>4</li>']"
      ]
     },
     "execution_count": 63,
     "metadata": {},
     "output_type": "execute_result"
    }
   ],
   "source": [
    "xp(\"//li[1]\")"
   ]
  },
  {
   "cell_type": "markdown",
   "metadata": {},
   "source": [
    "And this gets the first `<li>` element in the whole document:"
   ]
  },
  {
   "cell_type": "code",
   "execution_count": 64,
   "metadata": {},
   "outputs": [
    {
     "data": {
      "text/plain": [
       "['<li>1</li>']"
      ]
     },
     "execution_count": 64,
     "metadata": {},
     "output_type": "execute_result"
    }
   ],
   "source": [
    "xp(\"(//li)[1]\")"
   ]
  },
  {
   "cell_type": "markdown",
   "metadata": {},
   "source": [
    "This gets all first `<li>` elements under an `<ul>` parent:"
   ]
  },
  {
   "cell_type": "code",
   "execution_count": 65,
   "metadata": {},
   "outputs": [
    {
     "data": {
      "text/plain": [
       "['<li>1</li>', '<li>4</li>']"
      ]
     },
     "execution_count": 65,
     "metadata": {},
     "output_type": "execute_result"
    }
   ],
   "source": [
    "xp(\"//ul/li[1]\")"
   ]
  },
  {
   "cell_type": "markdown",
   "metadata": {},
   "source": [
    "And this gets the first `<li>` element under an `<ul>` parent in the whole document:"
   ]
  },
  {
   "cell_type": "code",
   "execution_count": 66,
   "metadata": {},
   "outputs": [
    {
     "data": {
      "text/plain": [
       "['<li>1</li>']"
      ]
     },
     "execution_count": 66,
     "metadata": {},
     "output_type": "execute_result"
    }
   ],
   "source": [
    "xp(\"(//ul/li)[1]\")"
   ]
  },
  {
   "cell_type": "markdown",
   "metadata": {},
   "source": [
    "### When querying by class, consider using CSS\n",
    "\n",
    "Because an element can contain multiple CSS classes, the XPath way to select elements by class is the rather verbose:\n",
    "\n",
    "*[contains(concat(' ', normalize-space(@class), ' '), ' someclass ')]\n",
    "If you use @class='someclass' you may end up missing elements that have other classes, and if you just use contains(@class, 'someclass') to make up for that you may end up with more elements that you want, if they have a different class name that shares the string someclass.\n",
    "\n",
    "As it turns out, parsel selectors allow you to chain selectors, so most of the time you can just select by class using CSS and then switch to XPath when needed:"
   ]
  },
  {
   "cell_type": "code",
   "execution_count": 67,
   "metadata": {},
   "outputs": [],
   "source": [
    "from parsel import Selector"
   ]
  },
  {
   "cell_type": "code",
   "execution_count": 68,
   "metadata": {},
   "outputs": [
    {
     "data": {
      "text/plain": [
       "['2014-07-23 19:00']"
      ]
     },
     "execution_count": 68,
     "metadata": {},
     "output_type": "execute_result"
    }
   ],
   "source": [
    "sel = Selector(text='<div class=\"hero shout\"><time datetime=\"2014-07-23 19:00\">Special date</time></div>')\n",
    "sel.css('.shout').xpath('./time/@datetime').getall()"
   ]
  },
  {
   "cell_type": "markdown",
   "metadata": {},
   "source": [
    "This is cleaner than using the verbose XPath trick shown above. Just remember to use the . in the XPath expressions that will follow."
   ]
  },
  {
   "cell_type": "markdown",
   "metadata": {},
   "source": [
    "### extract() and extract_first()\n",
    "\n",
    "If you’re a long-time parsel (or Scrapy) user, you’re probably familiar with .extract() and .extract_first() selector methods. These methods are still supported by parsel, there are no plans to deprecate them.\n",
    "\n",
    "However, parsel usage docs are now written using .get() and .getall() methods. We feel that these new methods result in more concise and readable code.\n",
    "\n",
    "The following examples show how these methods map to each other.\n",
    "\n",
    "SelectorList.get() is the same as SelectorList.extract_first():"
   ]
  },
  {
   "cell_type": "code",
   "execution_count": 69,
   "metadata": {},
   "outputs": [
    {
     "data": {
      "text/plain": [
       "'image1.html'"
      ]
     },
     "execution_count": 69,
     "metadata": {},
     "output_type": "execute_result"
    }
   ],
   "source": [
    "selector.css('a::attr(href)').get()"
   ]
  },
  {
   "cell_type": "code",
   "execution_count": 70,
   "metadata": {},
   "outputs": [
    {
     "data": {
      "text/plain": [
       "'image1.html'"
      ]
     },
     "execution_count": 70,
     "metadata": {},
     "output_type": "execute_result"
    }
   ],
   "source": [
    "selector.css('a::attr(href)').extract_first()"
   ]
  },
  {
   "cell_type": "markdown",
   "metadata": {},
   "source": [
    "SelectorList.getall() is the same as SelectorList.extract():"
   ]
  },
  {
   "cell_type": "code",
   "execution_count": 71,
   "metadata": {},
   "outputs": [
    {
     "data": {
      "text/plain": [
       "['image1.html', 'image2.html', 'image3.html', 'image4.html', 'image5.html']"
      ]
     },
     "execution_count": 71,
     "metadata": {},
     "output_type": "execute_result"
    }
   ],
   "source": [
    "selector.css('a::attr(href)').getall()"
   ]
  },
  {
   "cell_type": "code",
   "execution_count": 72,
   "metadata": {},
   "outputs": [
    {
     "data": {
      "text/plain": [
       "['image1.html', 'image2.html', 'image3.html', 'image4.html', 'image5.html']"
      ]
     },
     "execution_count": 72,
     "metadata": {},
     "output_type": "execute_result"
    }
   ],
   "source": [
    "selector.css('a::attr(href)').extract()"
   ]
  },
  {
   "cell_type": "markdown",
   "metadata": {},
   "source": [
    "Selector.get() is the same as Selector.extract():"
   ]
  },
  {
   "cell_type": "code",
   "execution_count": 73,
   "metadata": {},
   "outputs": [
    {
     "data": {
      "text/plain": [
       "'image1.html'"
      ]
     },
     "execution_count": 73,
     "metadata": {},
     "output_type": "execute_result"
    }
   ],
   "source": [
    "selector.css('a::attr(href)')[0].get()"
   ]
  },
  {
   "cell_type": "code",
   "execution_count": 74,
   "metadata": {},
   "outputs": [
    {
     "data": {
      "text/plain": [
       "'image1.html'"
      ]
     },
     "execution_count": 74,
     "metadata": {},
     "output_type": "execute_result"
    }
   ],
   "source": [
    "selector.css('a::attr(href)')[0].extract()"
   ]
  },
  {
   "cell_type": "markdown",
   "metadata": {},
   "source": [
    "For consistency, there is also Selector.getall(), which returns a list:"
   ]
  },
  {
   "cell_type": "code",
   "execution_count": 75,
   "metadata": {},
   "outputs": [
    {
     "data": {
      "text/plain": [
       "['image1.html']"
      ]
     },
     "execution_count": 75,
     "metadata": {},
     "output_type": "execute_result"
    }
   ],
   "source": [
    "selector.css('a::attr(href)')[0].getall()"
   ]
  },
  {
   "cell_type": "markdown",
   "metadata": {},
   "source": [
    "With the .extract() method it was not always obvious if a result is a list or not; to get a single result either .extract() or .extract_first() needed to be called, depending whether you had a Selector or SelectorList.\n",
    "\n",
    "So, the main difference is that the outputs of .get() and .getall() are more predictable: .get() always returns a single result, .getall() always returns a list of all extracted results."
   ]
  }
 ],
 "metadata": {
  "kernelspec": {
   "display_name": "Python 3",
   "language": "python",
   "name": "python3"
  },
  "language_info": {
   "codemirror_mode": {
    "name": "ipython",
    "version": 3
   },
   "file_extension": ".py",
   "mimetype": "text/x-python",
   "name": "python",
   "nbconvert_exporter": "python",
   "pygments_lexer": "ipython3",
   "version": "3.6.5"
  }
 },
 "nbformat": 4,
 "nbformat_minor": 2
}
